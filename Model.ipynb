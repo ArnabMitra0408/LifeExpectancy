{
 "cells": [
  {
   "cell_type": "code",
   "execution_count": 36,
   "metadata": {},
   "outputs": [],
   "source": [
    "import numpy as np\n",
    "import pandas as pd\n",
    "import matplotlib.pyplot as plt"
   ]
  },
  {
   "cell_type": "code",
   "execution_count": 37,
   "metadata": {},
   "outputs": [],
   "source": [
    "df=pd.read_csv('CleanedData.csv')"
   ]
  },
  {
   "cell_type": "code",
   "execution_count": 38,
   "metadata": {},
   "outputs": [
    {
     "data": {
      "text/html": [
       "<div>\n",
       "<style scoped>\n",
       "    .dataframe tbody tr th:only-of-type {\n",
       "        vertical-align: middle;\n",
       "    }\n",
       "\n",
       "    .dataframe tbody tr th {\n",
       "        vertical-align: top;\n",
       "    }\n",
       "\n",
       "    .dataframe thead th {\n",
       "        text-align: right;\n",
       "    }\n",
       "</style>\n",
       "<table border=\"1\" class=\"dataframe\">\n",
       "  <thead>\n",
       "    <tr style=\"text-align: right;\">\n",
       "      <th></th>\n",
       "      <th>Unnamed: 0</th>\n",
       "      <th>Country</th>\n",
       "      <th>Year</th>\n",
       "      <th>Status</th>\n",
       "      <th>Life expectancy</th>\n",
       "      <th>Adult Mortality</th>\n",
       "      <th>infant deaths</th>\n",
       "      <th>Alcohol</th>\n",
       "      <th>percentage expenditure</th>\n",
       "      <th>Hepatitis B</th>\n",
       "      <th>...</th>\n",
       "      <th>Polio</th>\n",
       "      <th>Total expenditure</th>\n",
       "      <th>Diphtheria</th>\n",
       "      <th>HIV/AIDS</th>\n",
       "      <th>GDP</th>\n",
       "      <th>Population</th>\n",
       "      <th>thinness  1-19 years</th>\n",
       "      <th>thinness 5-9 years</th>\n",
       "      <th>Income composition of resources</th>\n",
       "      <th>Schooling</th>\n",
       "    </tr>\n",
       "  </thead>\n",
       "  <tbody>\n",
       "    <tr>\n",
       "      <th>0</th>\n",
       "      <td>2937</td>\n",
       "      <td>183</td>\n",
       "      <td>2000</td>\n",
       "      <td>1</td>\n",
       "      <td>46.0</td>\n",
       "      <td>665.0</td>\n",
       "      <td>24</td>\n",
       "      <td>1.680000</td>\n",
       "      <td>738.251295</td>\n",
       "      <td>79.000000</td>\n",
       "      <td>...</td>\n",
       "      <td>78.000000</td>\n",
       "      <td>7.10000</td>\n",
       "      <td>78.000000</td>\n",
       "      <td>43.5</td>\n",
       "      <td>547.358879</td>\n",
       "      <td>12222251.0</td>\n",
       "      <td>11.000000</td>\n",
       "      <td>11.200000</td>\n",
       "      <td>0.434000</td>\n",
       "      <td>9.8</td>\n",
       "    </tr>\n",
       "    <tr>\n",
       "      <th>1</th>\n",
       "      <td>271</td>\n",
       "      <td>16</td>\n",
       "      <td>2000</td>\n",
       "      <td>1</td>\n",
       "      <td>68.3</td>\n",
       "      <td>196.0</td>\n",
       "      <td>0</td>\n",
       "      <td>4.790000</td>\n",
       "      <td>219.023984</td>\n",
       "      <td>76.000000</td>\n",
       "      <td>...</td>\n",
       "      <td>91.000000</td>\n",
       "      <td>3.98000</td>\n",
       "      <td>91.000000</td>\n",
       "      <td>0.3</td>\n",
       "      <td>3364.423711</td>\n",
       "      <td>247315.0</td>\n",
       "      <td>3.800000</td>\n",
       "      <td>3.700000</td>\n",
       "      <td>0.668000</td>\n",
       "      <td>11.7</td>\n",
       "    </tr>\n",
       "    <tr>\n",
       "      <th>2</th>\n",
       "      <td>1361</td>\n",
       "      <td>84</td>\n",
       "      <td>2000</td>\n",
       "      <td>1</td>\n",
       "      <td>63.9</td>\n",
       "      <td>292.0</td>\n",
       "      <td>9</td>\n",
       "      <td>6.000000</td>\n",
       "      <td>112.541157</td>\n",
       "      <td>99.000000</td>\n",
       "      <td>...</td>\n",
       "      <td>96.000000</td>\n",
       "      <td>4.16000</td>\n",
       "      <td>97.000000</td>\n",
       "      <td>0.1</td>\n",
       "      <td>1229.958000</td>\n",
       "      <td>14883626.0</td>\n",
       "      <td>2.700000</td>\n",
       "      <td>2.700000</td>\n",
       "      <td>0.676000</td>\n",
       "      <td>12.1</td>\n",
       "    </tr>\n",
       "    <tr>\n",
       "      <th>3</th>\n",
       "      <td>849</td>\n",
       "      <td>52</td>\n",
       "      <td>2000</td>\n",
       "      <td>1</td>\n",
       "      <td>52.7</td>\n",
       "      <td>336.0</td>\n",
       "      <td>3</td>\n",
       "      <td>4.460000</td>\n",
       "      <td>14.954513</td>\n",
       "      <td>80.940461</td>\n",
       "      <td>...</td>\n",
       "      <td>41.000000</td>\n",
       "      <td>2.73000</td>\n",
       "      <td>34.000000</td>\n",
       "      <td>1.9</td>\n",
       "      <td>172.684910</td>\n",
       "      <td>614323.0</td>\n",
       "      <td>1.700000</td>\n",
       "      <td>1.600000</td>\n",
       "      <td>0.627551</td>\n",
       "      <td>0.0</td>\n",
       "    </tr>\n",
       "    <tr>\n",
       "      <th>4</th>\n",
       "      <td>2424</td>\n",
       "      <td>151</td>\n",
       "      <td>2000</td>\n",
       "      <td>1</td>\n",
       "      <td>48.9</td>\n",
       "      <td>38.0</td>\n",
       "      <td>31</td>\n",
       "      <td>4.602861</td>\n",
       "      <td>738.251295</td>\n",
       "      <td>80.940461</td>\n",
       "      <td>...</td>\n",
       "      <td>82.550188</td>\n",
       "      <td>5.93819</td>\n",
       "      <td>82.324084</td>\n",
       "      <td>2.7</td>\n",
       "      <td>7483.158469</td>\n",
       "      <td>67656.0</td>\n",
       "      <td>4.839704</td>\n",
       "      <td>4.870317</td>\n",
       "      <td>0.627551</td>\n",
       "      <td>0.0</td>\n",
       "    </tr>\n",
       "  </tbody>\n",
       "</table>\n",
       "<p>5 rows × 23 columns</p>\n",
       "</div>"
      ],
      "text/plain": [
       "   Unnamed: 0  Country  Year  Status  Life expectancy  Adult Mortality  \\\n",
       "0        2937      183  2000       1             46.0            665.0   \n",
       "1         271       16  2000       1             68.3            196.0   \n",
       "2        1361       84  2000       1             63.9            292.0   \n",
       "3         849       52  2000       1             52.7            336.0   \n",
       "4        2424      151  2000       1             48.9             38.0   \n",
       "\n",
       "   infant deaths   Alcohol  percentage expenditure  Hepatitis B  ...  \\\n",
       "0             24  1.680000              738.251295    79.000000  ...   \n",
       "1              0  4.790000              219.023984    76.000000  ...   \n",
       "2              9  6.000000              112.541157    99.000000  ...   \n",
       "3              3  4.460000               14.954513    80.940461  ...   \n",
       "4             31  4.602861              738.251295    80.940461  ...   \n",
       "\n",
       "       Polio  Total expenditure  Diphtheria  HIV/AIDS          GDP  \\\n",
       "0  78.000000            7.10000   78.000000      43.5   547.358879   \n",
       "1  91.000000            3.98000   91.000000       0.3  3364.423711   \n",
       "2  96.000000            4.16000   97.000000       0.1  1229.958000   \n",
       "3  41.000000            2.73000   34.000000       1.9   172.684910   \n",
       "4  82.550188            5.93819   82.324084       2.7  7483.158469   \n",
       "\n",
       "   Population  thinness  1-19 years  thinness 5-9 years  \\\n",
       "0  12222251.0             11.000000           11.200000   \n",
       "1    247315.0              3.800000            3.700000   \n",
       "2  14883626.0              2.700000            2.700000   \n",
       "3    614323.0              1.700000            1.600000   \n",
       "4     67656.0              4.839704            4.870317   \n",
       "\n",
       "   Income composition of resources  Schooling  \n",
       "0                         0.434000        9.8  \n",
       "1                         0.668000       11.7  \n",
       "2                         0.676000       12.1  \n",
       "3                         0.627551        0.0  \n",
       "4                         0.627551        0.0  \n",
       "\n",
       "[5 rows x 23 columns]"
      ]
     },
     "execution_count": 38,
     "metadata": {},
     "output_type": "execute_result"
    }
   ],
   "source": [
    "df.head()"
   ]
  },
  {
   "cell_type": "code",
   "execution_count": 39,
   "metadata": {},
   "outputs": [
    {
     "data": {
      "text/plain": [
       "(2938, 23)"
      ]
     },
     "execution_count": 39,
     "metadata": {},
     "output_type": "execute_result"
    }
   ],
   "source": [
    "df.shape"
   ]
  },
  {
   "cell_type": "code",
   "execution_count": 40,
   "metadata": {},
   "outputs": [],
   "source": [
    "df.drop(['Unnamed: 0'],axis=1,inplace=True)"
   ]
  },
  {
   "cell_type": "code",
   "execution_count": 44,
   "metadata": {},
   "outputs": [],
   "source": [
    "from sklearn.preprocessing import Normalizer\n",
    "norm=Normalizer()\n"
   ]
  },
  {
   "cell_type": "code",
   "execution_count": 45,
   "metadata": {},
   "outputs": [
    {
     "data": {
      "text/html": [
       "<div>\n",
       "<style scoped>\n",
       "    .dataframe tbody tr th:only-of-type {\n",
       "        vertical-align: middle;\n",
       "    }\n",
       "\n",
       "    .dataframe tbody tr th {\n",
       "        vertical-align: top;\n",
       "    }\n",
       "\n",
       "    .dataframe thead th {\n",
       "        text-align: right;\n",
       "    }\n",
       "</style>\n",
       "<table border=\"1\" class=\"dataframe\">\n",
       "  <thead>\n",
       "    <tr style=\"text-align: right;\">\n",
       "      <th></th>\n",
       "      <th>Country</th>\n",
       "      <th>Year</th>\n",
       "      <th>Status</th>\n",
       "      <th>Adult Mortality</th>\n",
       "      <th>infant deaths</th>\n",
       "      <th>Alcohol</th>\n",
       "      <th>percentage expenditure</th>\n",
       "      <th>Hepatitis B</th>\n",
       "      <th>Measles</th>\n",
       "      <th>BMI</th>\n",
       "      <th>...</th>\n",
       "      <th>Polio</th>\n",
       "      <th>Total expenditure</th>\n",
       "      <th>Diphtheria</th>\n",
       "      <th>HIV/AIDS</th>\n",
       "      <th>GDP</th>\n",
       "      <th>Population</th>\n",
       "      <th>thinness  1-19 years</th>\n",
       "      <th>thinness 5-9 years</th>\n",
       "      <th>Income composition of resources</th>\n",
       "      <th>Schooling</th>\n",
       "    </tr>\n",
       "  </thead>\n",
       "  <tbody>\n",
       "    <tr>\n",
       "      <th>0</th>\n",
       "      <td>183</td>\n",
       "      <td>2000</td>\n",
       "      <td>1</td>\n",
       "      <td>665.0</td>\n",
       "      <td>24</td>\n",
       "      <td>1.680000</td>\n",
       "      <td>738.251295</td>\n",
       "      <td>79.000000</td>\n",
       "      <td>1483</td>\n",
       "      <td>25.500000</td>\n",
       "      <td>...</td>\n",
       "      <td>78.000000</td>\n",
       "      <td>7.10000</td>\n",
       "      <td>78.000000</td>\n",
       "      <td>43.5</td>\n",
       "      <td>547.358879</td>\n",
       "      <td>12222251.0</td>\n",
       "      <td>11.000000</td>\n",
       "      <td>11.200000</td>\n",
       "      <td>0.434000</td>\n",
       "      <td>9.8</td>\n",
       "    </tr>\n",
       "    <tr>\n",
       "      <th>1</th>\n",
       "      <td>16</td>\n",
       "      <td>2000</td>\n",
       "      <td>1</td>\n",
       "      <td>196.0</td>\n",
       "      <td>0</td>\n",
       "      <td>4.790000</td>\n",
       "      <td>219.023984</td>\n",
       "      <td>76.000000</td>\n",
       "      <td>0</td>\n",
       "      <td>4.800000</td>\n",
       "      <td>...</td>\n",
       "      <td>91.000000</td>\n",
       "      <td>3.98000</td>\n",
       "      <td>91.000000</td>\n",
       "      <td>0.3</td>\n",
       "      <td>3364.423711</td>\n",
       "      <td>247315.0</td>\n",
       "      <td>3.800000</td>\n",
       "      <td>3.700000</td>\n",
       "      <td>0.668000</td>\n",
       "      <td>11.7</td>\n",
       "    </tr>\n",
       "    <tr>\n",
       "      <th>2</th>\n",
       "      <td>84</td>\n",
       "      <td>2000</td>\n",
       "      <td>1</td>\n",
       "      <td>292.0</td>\n",
       "      <td>9</td>\n",
       "      <td>6.000000</td>\n",
       "      <td>112.541157</td>\n",
       "      <td>99.000000</td>\n",
       "      <td>245</td>\n",
       "      <td>43.900000</td>\n",
       "      <td>...</td>\n",
       "      <td>96.000000</td>\n",
       "      <td>4.16000</td>\n",
       "      <td>97.000000</td>\n",
       "      <td>0.1</td>\n",
       "      <td>1229.958000</td>\n",
       "      <td>14883626.0</td>\n",
       "      <td>2.700000</td>\n",
       "      <td>2.700000</td>\n",
       "      <td>0.676000</td>\n",
       "      <td>12.1</td>\n",
       "    </tr>\n",
       "    <tr>\n",
       "      <th>3</th>\n",
       "      <td>52</td>\n",
       "      <td>2000</td>\n",
       "      <td>1</td>\n",
       "      <td>336.0</td>\n",
       "      <td>3</td>\n",
       "      <td>4.460000</td>\n",
       "      <td>14.954513</td>\n",
       "      <td>80.940461</td>\n",
       "      <td>0</td>\n",
       "      <td>18.300000</td>\n",
       "      <td>...</td>\n",
       "      <td>41.000000</td>\n",
       "      <td>2.73000</td>\n",
       "      <td>34.000000</td>\n",
       "      <td>1.9</td>\n",
       "      <td>172.684910</td>\n",
       "      <td>614323.0</td>\n",
       "      <td>1.700000</td>\n",
       "      <td>1.600000</td>\n",
       "      <td>0.627551</td>\n",
       "      <td>0.0</td>\n",
       "    </tr>\n",
       "    <tr>\n",
       "      <th>4</th>\n",
       "      <td>151</td>\n",
       "      <td>2000</td>\n",
       "      <td>1</td>\n",
       "      <td>38.0</td>\n",
       "      <td>31</td>\n",
       "      <td>4.602861</td>\n",
       "      <td>738.251295</td>\n",
       "      <td>80.940461</td>\n",
       "      <td>0</td>\n",
       "      <td>38.321247</td>\n",
       "      <td>...</td>\n",
       "      <td>82.550188</td>\n",
       "      <td>5.93819</td>\n",
       "      <td>82.324084</td>\n",
       "      <td>2.7</td>\n",
       "      <td>7483.158469</td>\n",
       "      <td>67656.0</td>\n",
       "      <td>4.839704</td>\n",
       "      <td>4.870317</td>\n",
       "      <td>0.627551</td>\n",
       "      <td>0.0</td>\n",
       "    </tr>\n",
       "  </tbody>\n",
       "</table>\n",
       "<p>5 rows × 21 columns</p>\n",
       "</div>"
      ],
      "text/plain": [
       "   Country  Year  Status  Adult Mortality  infant deaths   Alcohol  \\\n",
       "0      183  2000       1            665.0             24  1.680000   \n",
       "1       16  2000       1            196.0              0  4.790000   \n",
       "2       84  2000       1            292.0              9  6.000000   \n",
       "3       52  2000       1            336.0              3  4.460000   \n",
       "4      151  2000       1             38.0             31  4.602861   \n",
       "\n",
       "   percentage expenditure  Hepatitis B  Measles        BMI  ...      Polio  \\\n",
       "0              738.251295    79.000000     1483  25.500000  ...  78.000000   \n",
       "1              219.023984    76.000000        0   4.800000  ...  91.000000   \n",
       "2              112.541157    99.000000      245  43.900000  ...  96.000000   \n",
       "3               14.954513    80.940461        0  18.300000  ...  41.000000   \n",
       "4              738.251295    80.940461        0  38.321247  ...  82.550188   \n",
       "\n",
       "   Total expenditure  Diphtheria  HIV/AIDS          GDP  Population  \\\n",
       "0            7.10000   78.000000      43.5   547.358879  12222251.0   \n",
       "1            3.98000   91.000000       0.3  3364.423711    247315.0   \n",
       "2            4.16000   97.000000       0.1  1229.958000  14883626.0   \n",
       "3            2.73000   34.000000       1.9   172.684910    614323.0   \n",
       "4            5.93819   82.324084       2.7  7483.158469     67656.0   \n",
       "\n",
       "   thinness  1-19 years  thinness 5-9 years  Income composition of resources  \\\n",
       "0             11.000000           11.200000                         0.434000   \n",
       "1              3.800000            3.700000                         0.668000   \n",
       "2              2.700000            2.700000                         0.676000   \n",
       "3              1.700000            1.600000                         0.627551   \n",
       "4              4.839704            4.870317                         0.627551   \n",
       "\n",
       "   Schooling  \n",
       "0        9.8  \n",
       "1       11.7  \n",
       "2       12.1  \n",
       "3        0.0  \n",
       "4        0.0  \n",
       "\n",
       "[5 rows x 21 columns]"
      ]
     },
     "execution_count": 45,
     "metadata": {},
     "output_type": "execute_result"
    }
   ],
   "source": [
    "Y=df['Life expectancy']\n",
    "df.drop(['Life expectancy'],axis=1,inplace=True)\n",
    "df.head()"
   ]
  },
  {
   "cell_type": "code",
   "execution_count": null,
   "metadata": {},
   "outputs": [],
   "source": []
  },
  {
   "cell_type": "code",
   "execution_count": 49,
   "metadata": {},
   "outputs": [
    {
     "name": "stdout",
     "output_type": "stream",
     "text": [
      "[46.  68.3 63.9 ... 74.5 75.  65. ]\n"
     ]
    }
   ],
   "source": []
  },
  {
   "cell_type": "code",
   "execution_count": 51,
   "metadata": {},
   "outputs": [],
   "source": [
    "\n",
    "Xtrain,Xtest=X[:2644],X[2644:]\n",
    "Ytrain,Ytest=Y[:2644],Y[2644:]"
   ]
  },
  {
   "cell_type": "code",
   "execution_count": null,
   "metadata": {},
   "outputs": [],
   "source": []
  },
  {
   "cell_type": "code",
   "execution_count": 52,
   "metadata": {},
   "outputs": [],
   "source": [
    "from sklearn.linear_model import Lasso,LinearRegression,Ridge"
   ]
  },
  {
   "cell_type": "markdown",
   "metadata": {},
   "source": [
    "LINEAR REGRESSION -> Base Model"
   ]
  },
  {
   "cell_type": "code",
   "execution_count": 53,
   "metadata": {},
   "outputs": [
    {
     "data": {
      "text/plain": [
       "LinearRegression(copy_X=True, fit_intercept=True, n_jobs=None, normalize=True)"
      ]
     },
     "execution_count": 53,
     "metadata": {},
     "output_type": "execute_result"
    }
   ],
   "source": [
    "lr=LinearRegression(normalize=True)\n",
    "lr.fit(Xtrain,Ytrain)"
   ]
  },
  {
   "cell_type": "code",
   "execution_count": 54,
   "metadata": {},
   "outputs": [
    {
     "data": {
      "text/plain": [
       "0.8457069996759727"
      ]
     },
     "execution_count": 54,
     "metadata": {},
     "output_type": "execute_result"
    }
   ],
   "source": [
    "lr.score(Xtrain,Ytrain)"
   ]
  },
  {
   "cell_type": "code",
   "execution_count": 55,
   "metadata": {},
   "outputs": [
    {
     "data": {
      "text/plain": [
       "0.8321852286824167"
      ]
     },
     "execution_count": 55,
     "metadata": {},
     "output_type": "execute_result"
    }
   ],
   "source": [
    "lr.score(Xtest,Ytest)"
   ]
  },
  {
   "cell_type": "markdown",
   "metadata": {},
   "source": [
    "Score of 83% on test data using LinearRegression. This is the base score "
   ]
  },
  {
   "cell_type": "code",
   "execution_count": null,
   "metadata": {},
   "outputs": [],
   "source": []
  },
  {
   "cell_type": "markdown",
   "metadata": {},
   "source": [
    "Ridge"
   ]
  },
  {
   "cell_type": "code",
   "execution_count": 56,
   "metadata": {},
   "outputs": [
    {
     "data": {
      "text/plain": [
       "GridSearchCV(cv=5, error_score=nan,\n",
       "             estimator=Ridge(alpha=1.0, copy_X=True, fit_intercept=True,\n",
       "                             max_iter=None, normalize=True, random_state=None,\n",
       "                             solver='auto', tol=0.001),\n",
       "             iid='deprecated', n_jobs=None,\n",
       "             param_grid={'alpha': [1e-15, 1e-10, 1e-08, 0.001, 0.01, 1, 5, 10,\n",
       "                                   20, 30, 35, 40, 45, 50, 55, 100],\n",
       "                         'max_iter': [4000, 5000]},\n",
       "             pre_dispatch='2*n_jobs', refit=True, return_train_score=False,\n",
       "             scoring=None, verbose=0)"
      ]
     },
     "execution_count": 56,
     "metadata": {},
     "output_type": "execute_result"
    }
   ],
   "source": [
    "from sklearn.linear_model import Ridge\n",
    "from sklearn.model_selection import GridSearchCV\n",
    "\n",
    "ridge=Ridge(normalize=True)\n",
    "ridge.fit(Xtrain,Ytrain)\n",
    "parameters={'alpha':[1e-15,1e-10,1e-8,1e-3,1e-2,1,5,10,20,30,35,40,45,50,55,100],'max_iter':[4000,5000]}\n",
    "ridge_regressor=GridSearchCV(ridge,parameters,cv=5)\n",
    "ridge_regressor.fit(Xtrain,Ytrain)"
   ]
  },
  {
   "cell_type": "code",
   "execution_count": 15,
   "metadata": {},
   "outputs": [
    {
     "data": {
      "text/plain": [
       "0.7663518715657955"
      ]
     },
     "execution_count": 15,
     "metadata": {},
     "output_type": "execute_result"
    }
   ],
   "source": []
  },
  {
   "cell_type": "code",
   "execution_count": 57,
   "metadata": {},
   "outputs": [
    {
     "name": "stdout",
     "output_type": "stream",
     "text": [
      "{'alpha': 1e-08, 'max_iter': 4000}\n",
      "0.8357249037832322\n"
     ]
    }
   ],
   "source": [
    "print(ridge_regressor.best_params_)\n",
    "print(ridge_regressor.best_score_)"
   ]
  },
  {
   "cell_type": "code",
   "execution_count": 58,
   "metadata": {},
   "outputs": [
    {
     "name": "stderr",
     "output_type": "stream",
     "text": [
      "c:\\users\\acer\\appdata\\local\\programs\\python\\python37\\lib\\site-packages\\sklearn\\linear_model\\_ridge.py:148: LinAlgWarning: Ill-conditioned matrix (rcond=1.31907e-18): result may not be accurate.\n",
      "  overwrite_a=True).T\n"
     ]
    },
    {
     "data": {
      "text/plain": [
       "Ridge(alpha=1e-08, copy_X=True, fit_intercept=True, max_iter=4000,\n",
       "      normalize=False, random_state=None, solver='auto', tol=0.001)"
      ]
     },
     "execution_count": 58,
     "metadata": {},
     "output_type": "execute_result"
    }
   ],
   "source": [
    "ridge=Ridge(alpha=1e-08,max_iter=4000)\n",
    "ridge.fit(Xtrain,Ytrain)"
   ]
  },
  {
   "cell_type": "code",
   "execution_count": 59,
   "metadata": {},
   "outputs": [
    {
     "data": {
      "text/plain": [
       "0.8457069996759727"
      ]
     },
     "execution_count": 59,
     "metadata": {},
     "output_type": "execute_result"
    }
   ],
   "source": [
    "ridge.score(Xtrain,Ytrain)"
   ]
  },
  {
   "cell_type": "code",
   "execution_count": 60,
   "metadata": {},
   "outputs": [
    {
     "data": {
      "text/plain": [
       "0.8321852286757159"
      ]
     },
     "execution_count": 60,
     "metadata": {},
     "output_type": "execute_result"
    }
   ],
   "source": [
    "ridge.score(Xtest,Ytest)"
   ]
  },
  {
   "cell_type": "markdown",
   "metadata": {},
   "source": [
    "LASSO"
   ]
  },
  {
   "cell_type": "code",
   "execution_count": 62,
   "metadata": {},
   "outputs": [
    {
     "name": "stdout",
     "output_type": "stream",
     "text": [
      "{'alpha': 1e-08, 'max_iter': -1}\n",
      "0.835724932650888\n"
     ]
    }
   ],
   "source": [
    "\n",
    "from sklearn.linear_model import Lasso\n",
    "from sklearn.model_selection import GridSearchCV\n",
    "lasso=Lasso(normalize=True)\n",
    "parameters={'alpha':[1e-15,1e-10,1e-8,1e-3,1e-2,1,5,10,20,30,35,40,45,50,55,100],'max_iter':[-1]}\n",
    "lasso_regressor=GridSearchCV(lasso,parameters,cv=5)\n",
    "\n",
    "lasso_regressor.fit(Xtrain,Ytrain)\n",
    "print(lasso_regressor.best_params_)\n",
    "print(lasso_regressor.best_score_)"
   ]
  },
  {
   "cell_type": "code",
   "execution_count": 63,
   "metadata": {},
   "outputs": [
    {
     "data": {
      "text/plain": [
       "Lasso(alpha=1e-08, copy_X=True, fit_intercept=True, max_iter=-1,\n",
       "      normalize=False, positive=False, precompute=False, random_state=None,\n",
       "      selection='cyclic', tol=0.0001, warm_start=False)"
      ]
     },
     "execution_count": 63,
     "metadata": {},
     "output_type": "execute_result"
    }
   ],
   "source": [
    "lasso=Lasso(alpha=1e-08,max_iter=-1)\n",
    "lasso.fit(Xtrain,Ytrain)"
   ]
  },
  {
   "cell_type": "code",
   "execution_count": 64,
   "metadata": {},
   "outputs": [
    {
     "data": {
      "text/plain": [
       "0.8457069996759725"
      ]
     },
     "execution_count": 64,
     "metadata": {},
     "output_type": "execute_result"
    }
   ],
   "source": [
    "lasso.score(Xtrain,Ytrain)"
   ]
  },
  {
   "cell_type": "code",
   "execution_count": 65,
   "metadata": {},
   "outputs": [
    {
     "data": {
      "text/plain": [
       "0.8321852277666723"
      ]
     },
     "execution_count": 65,
     "metadata": {},
     "output_type": "execute_result"
    }
   ],
   "source": [
    "lasso.score(Xtest,Ytest)"
   ]
  },
  {
   "cell_type": "markdown",
   "metadata": {},
   "source": [
    "RandomForestRegression"
   ]
  },
  {
   "cell_type": "code",
   "execution_count": 70,
   "metadata": {},
   "outputs": [
    {
     "data": {
      "text/plain": [
       "GridSearchCV(cv=5, error_score=nan,\n",
       "             estimator=RandomForestRegressor(bootstrap=True, ccp_alpha=0.0,\n",
       "                                             criterion='mse', max_depth=None,\n",
       "                                             max_features='auto',\n",
       "                                             max_leaf_nodes=None,\n",
       "                                             max_samples=None,\n",
       "                                             min_impurity_decrease=0.0,\n",
       "                                             min_impurity_split=None,\n",
       "                                             min_samples_leaf=1,\n",
       "                                             min_samples_split=2,\n",
       "                                             min_weight_fraction_leaf=0.0,\n",
       "                                             n_estimators=100, n_jobs=None,\n",
       "                                             oob_score=False, rand...e,\n",
       "                                             verbose=0, warm_start=False),\n",
       "             iid='deprecated', n_jobs=-1,\n",
       "             param_grid={'bootstrap': [True], 'criterion': ['mse', 'gini'],\n",
       "                         'max_depth': [5, 10, 15, 20, 25, 30],\n",
       "                         'max_features': ['auto', 'sqrt', 'log2'],\n",
       "                         'min_samples_split': [2, 4, 8, 10, 12],\n",
       "                         'n_estimators': [10, 20, 30, 40, 50, 60, 70, 80, 90,\n",
       "                                          100]},\n",
       "             pre_dispatch='2*n_jobs', refit=True, return_train_score=False,\n",
       "             scoring=None, verbose=0)"
      ]
     },
     "execution_count": 70,
     "metadata": {},
     "output_type": "execute_result"
    }
   ],
   "source": [
    "from sklearn.model_selection import GridSearchCV\n",
    "\n",
    "from sklearn.ensemble import RandomForestRegressor\n",
    "\n",
    "estimator = RandomForestRegressor()\n",
    "param_grid = { \n",
    "            \"n_estimators\"      : [10,20,30,40,50,60,70,80,90,100],\n",
    "            \"criterion\":['mse','gini'],\n",
    "            'max_depth':[5,10,15,20,25,30],\n",
    "            \"max_features\"      : [\"auto\", \"sqrt\", \"log2\"],\n",
    "            \"min_samples_split\" : [2,4,8,10,12],\n",
    "            \"bootstrap\": [True],\n",
    "            }\n",
    "\n",
    "grid = GridSearchCV(estimator, param_grid, n_jobs=-1, cv=5)\n",
    "\n",
    "grid.fit(Xtrain, Ytrain)\n"
   ]
  },
  {
   "cell_type": "code",
   "execution_count": 71,
   "metadata": {},
   "outputs": [
    {
     "name": "stdout",
     "output_type": "stream",
     "text": [
      "{'bootstrap': True, 'criterion': 'mse', 'max_depth': 15, 'max_features': 'auto', 'min_samples_split': 2, 'n_estimators': 90}\n",
      "0.9487010467488792\n"
     ]
    }
   ],
   "source": [
    "print(grid.best_params_)\n",
    "print(grid.best_score_)"
   ]
  },
  {
   "cell_type": "code",
   "execution_count": 78,
   "metadata": {},
   "outputs": [
    {
     "data": {
      "text/plain": [
       "0.9344536820808815"
      ]
     },
     "execution_count": 78,
     "metadata": {},
     "output_type": "execute_result"
    }
   ],
   "source": [
    "regr = RandomForestRegressor(criterion='mse',max_depth=15,max_features='auto',n_estimators=90,bootstrap=True,min_samples_split=2)\n",
    "regr.fit(Xtrain,Ytrain)\n",
    "regr.score(Xtest,Ytest)"
   ]
  },
  {
   "cell_type": "code",
   "execution_count": 79,
   "metadata": {},
   "outputs": [],
   "source": [
    "import pickle\n",
    "with open('regr.pkl', 'wb') as file1:\n",
    "    pickle.dump(regr, file1)"
   ]
  }
 ],
 "metadata": {
  "kernelspec": {
   "display_name": "Python 3",
   "language": "python",
   "name": "python3"
  },
  "language_info": {
   "codemirror_mode": {
    "name": "ipython",
    "version": 3
   },
   "file_extension": ".py",
   "mimetype": "text/x-python",
   "name": "python",
   "nbconvert_exporter": "python",
   "pygments_lexer": "ipython3",
   "version": "3.7.0"
  }
 },
 "nbformat": 4,
 "nbformat_minor": 2
}
